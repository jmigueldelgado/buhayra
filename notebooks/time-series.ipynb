{
 "cells": [
  {
   "cell_type": "markdown",
   "metadata": {},
   "source": [
    "# Reservoir Time Series\n",
    "\n",
    "## Import libraries and paths"
   ]
  },
  {
   "cell_type": "code",
   "execution_count": 6,
   "metadata": {},
   "outputs": [],
   "source": [
    "import sys\n",
    "sys.path.append(\"/home/delgado/proj/buhayra\")\n",
    "import buhayra.defAggregations as aggr\n",
    "from buhayra.getpaths import *\n",
    "from shapely.geometry import mapping, Polygon, shape\n",
    "import geojson\n",
    "import fiona"
   ]
  },
  {
   "cell_type": "markdown",
   "metadata": {},
   "source": [
    "## Query PostGIS for list of reservoir IDs"
   ]
  },
  {
   "cell_type": "code",
   "execution_count": 7,
   "metadata": {},
   "outputs": [],
   "source": [
    "bbox = Polygon([[-40.20,-3.0], [-38.3,-3.0], [-38.3,-4.50], [-40.20,-4.50]])\n",
    "path_to_geojson = aggr.ogr_getLatestIngestionTime()\n",
    "with fiona.open(path_to_geojson,'r') as latest:\n",
    "    reservoirs=list()\n",
    "    for feat in latest:\n",
    "        if feat['geometry'] is None or not shape(feat['geometry']).within(bbox):\n",
    "            continue\n",
    "        reservoirs.append(feat)"
   ]
  },
  {
   "cell_type": "markdown",
   "metadata": {},
   "source": [
    "## Query time series of list of reservoirs"
   ]
  },
  {
   "cell_type": "markdown",
   "metadata": {},
   "source": [
    "### Check queried polygons:"
   ]
  },
  {
   "cell_type": "code",
   "execution_count": 11,
   "metadata": {},
   "outputs": [
    {
     "data": {
      "text/plain": [
       "{'type': 'Feature',\n",
       " 'id': '1237807',\n",
       " 'properties': OrderedDict([('id_jrc', 5209),\n",
       "              ('ingestion_time', '2018-03-29T08:17:22'),\n",
       "              ('area', 12380.1),\n",
       "              ('id', 1237807)]),\n",
       " 'geometry': {'type': 'Point',\n",
       "  'coordinates': (-40.024035999457844, -4.053703409605131)}}"
      ]
     },
     "execution_count": 11,
     "metadata": {},
     "output_type": "execute_result"
    }
   ],
   "source": [
    "reservoirs[0]"
   ]
  },
  {
   "cell_type": "markdown",
   "metadata": {},
   "source": [
    "### Check queried ID"
   ]
  },
  {
   "cell_type": "code",
   "execution_count": 10,
   "metadata": {},
   "outputs": [
    {
     "data": {
      "text/plain": [
       "5209"
      ]
     },
     "execution_count": 10,
     "metadata": {},
     "output_type": "execute_result"
    }
   ],
   "source": [
    "reservoirs[0]['properties']['id_jrc']"
   ]
  },
  {
   "cell_type": "markdown",
   "metadata": {},
   "source": [
    "### Use ID for querying time series"
   ]
  },
  {
   "cell_type": "code",
   "execution_count": null,
   "metadata": {},
   "outputs": [],
   "source": [
    "path_to_geojson = aggr.ogr_getTimeSeriesID(reservoirs[0]['properties']['id_jrc'])\n",
    "bbox = Polygon([[-40.20,-3.0], [-38.3,-3.0], [-38.3,-4.50], [-40.20,-4.50]])\n",
    "with fiona.open(path_to_geojson,'r') as ts:\n",
    "    reservoir_ts=list()\n",
    "    for feat in ts:\n",
    "        reservoir_ts.append(feat)"
   ]
  },
  {
   "cell_type": "markdown",
   "metadata": {},
   "source": [
    "### Plot geometries"
   ]
  }
 ],
 "metadata": {
  "kernelspec": {
   "display_name": "Python (dask)",
   "language": "python",
   "name": "dask"
  },
  "language_info": {
   "codemirror_mode": {
    "name": "ipython",
    "version": 3
   },
   "file_extension": ".py",
   "mimetype": "text/x-python",
   "name": "python",
   "nbconvert_exporter": "python",
   "pygments_lexer": "ipython3",
   "version": "3.7.1"
  }
 },
 "nbformat": 4,
 "nbformat_minor": 2
}
